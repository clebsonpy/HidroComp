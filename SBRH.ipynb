{
 "cells": [
  {
   "cell_type": "markdown",
   "metadata": {},
   "source": [
    "### O pulso ainda pulsa? Como regimes de vazões (**nacionais**?) têm sido modificados\n",
    "\n",
    "Anotações para elaboração do artigo SBRH;\n",
    "\n",
    "Clebson"
   ]
  },
  {
   "cell_type": "code",
   "execution_count": 4,
   "metadata": {},
   "outputs": [],
   "source": [
    "import pandas as pd\n",
    "import numpy as np\n",
    "import plotly as py\n",
    "\n",
    "from files.ons import Ons\n",
    "from files.ana import Ana\n",
    "from series.flow import Flow\n",
    "from series.chuva import Chuva"
   ]
  },
  {
   "cell_type": "code",
   "execution_count": 5,
   "metadata": {},
   "outputs": [],
   "source": [
    "#Local dos arquivos\n",
    "file = \"/home/clebsonpy/Documents/Projetos/HydroComp/Medicoes/\"\n",
    "\n",
    "#Leitura do arquivo de vazões observadas\n",
    "dados_vazao_obs = Flow(path=file, source='ANA', consistence=2)\n",
    "#Leitura do arquivo de vazões naturais\n",
    "dados_vazao_nat = Flow(path=file, source=\"ONS\", station = \"MANSO\", delete_null=True)"
   ]
  },
  {
   "cell_type": "code",
   "execution_count": 6,
   "metadata": {},
   "outputs": [
    {
     "data": {
      "text/plain": [
       "'file:///home/clebsonpy/Documents/Projetos/HydroComp/gráficos/hidro_manso.html'"
      ]
     },
     "execution_count": 6,
     "metadata": {},
     "output_type": "execute_result"
    }
   ],
   "source": [
    "#Coloca os dados observados e naturais em um único DataFrame:\n",
    "dados = pd.DataFrame()\n",
    "dados = dados.combine_first(dados_vazao_obs.data)\n",
    "dados = dados.combine_first(dados_vazao_nat.data)\n",
    "#Transforma o objeto DataFrame em um objeto séries Flow\n",
    "dados = Flow(dados)\n",
    "data, fig = dados.plot_hydrogram()\n",
    "fig_gantt = dados.gantt()\n",
    "py.offline.plot(fig_gantt, filename='gráficos/gantt.html')\n",
    "py.offline.plot(fig, filename='gráficos/hidro_manso.html')"
   ]
  },
  {
   "cell_type": "markdown",
   "metadata": {},
   "source": [
    "![](../gráficos/hidro_manso.png)\n",
    "![](../gráficos/gantt.png)"
   ]
  },
  {
   "cell_type": "code",
   "execution_count": 8,
   "metadata": {},
   "outputs": [
    {
     "data": {
      "text/plain": [
       "'file:///home/clebsonpy/Documents/Projetos/HydroComp/gráficos/manso_dif_3.html'"
      ]
     },
     "execution_count": 8,
     "metadata": {},
     "output_type": "execute_result"
    }
   ],
   "source": [
    "dados_sub1 = Flow(pd.Series(dados.data.MANSO - dados.data['66231000'], name=\"Nat-Obs\"))\n",
    "dados_sub2 = Flow(pd.Series(dados.data.MANSO - dados.data['66210000'], name=\"Nat-Obs\"))\n",
    "dados_sub3 = Flow(pd.Series(dados.data['66231000'] - dados.data['66210000'], name=\"Nat-Obs\"))\n",
    "\n",
    "data1, fig1 = dados_sub1.plot_hydrogram()\n",
    "data2, fig2 = dados_sub2.plot_hydrogram()\n",
    "data3, fig3 = dados_sub3.plot_hydrogram()\n",
    "py.offline.plot(fig1, filename='gráficos/manso_dif_1.html')\n",
    "py.offline.plot(fig2, filename='gráficos/manso_dif_2.html')\n",
    "py.offline.plot(fig3, filename='gráficos/manso_dif_3.html')"
   ]
  },
  {
   "cell_type": "markdown",
   "metadata": {},
   "source": [
    "![](../gráficos/manso_dif_1.png)\n",
    "![](../gráficos/manso_dif_2.png)\n",
    "![](../gráficos/manso_dif_3.png)"
   ]
  },
  {
   "cell_type": "code",
   "execution_count": null,
   "metadata": {},
   "outputs": [],
   "source": []
  }
 ],
 "metadata": {
  "kernelspec": {
   "display_name": "Python 3",
   "language": "python",
   "name": "python3"
  },
  "language_info": {
   "codemirror_mode": {
    "name": "ipython",
    "version": 3
   },
   "file_extension": ".py",
   "mimetype": "text/x-python",
   "name": "python",
   "nbconvert_exporter": "python",
   "pygments_lexer": "ipython3",
   "version": "3.6.7"
  }
 },
 "nbformat": 4,
 "nbformat_minor": 2
}
