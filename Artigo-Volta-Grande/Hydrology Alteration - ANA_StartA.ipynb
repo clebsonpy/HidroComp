{
 "cells": [
  {
   "cell_type": "code",
   "execution_count": 1,
   "metadata": {},
   "outputs": [],
   "source": [
    "import sys\n",
    "sys.path.append(\"..\")"
   ]
  },
  {
   "cell_type": "code",
   "execution_count": 2,
   "metadata": {},
   "outputs": [],
   "source": [
    "from hydrocomp.iha.iha import IHA\n",
    "from hydrocomp.iha.graphics import Graphics\n",
    "import pandas as pd\n",
    "import plotly as py\n",
    "from hydrocomp.series.flow import Flow\n",
    "from simulation import Simulation"
   ]
  },
  {
   "cell_type": "code",
   "execution_count": 3,
   "metadata": {},
   "outputs": [],
   "source": [
    "file = \"../Medicoes/PIMENTAL.csv\"\n",
    "data = pd.read_csv(file, ',', index_col=0, parse_dates=True)\n",
    "flow = Flow(data=data, source='ONS', station=\"PIMENTAL\")\n",
    "flow.station = \"Natural\"\n",
    "flow.data = flow.data.rename(columns={\"PIMENTAL\": \"Natural\"})\n",
    "month = flow.month_start_year_hydrologic()\n",
    "date_start = flow.date_start.replace(day=1, month=month[2]) #date_start=01/03/1970\n",
    "date_end = flow.date_end.replace(day=31, month=month[0]-1) #date_end=31/08/2018\n",
    "flow.date(date_start=date_start, date_end=date_end) #data range definition\n",
    "\n",
    "threshold_high=11749.49\n",
    "threshold_low=1397.0\n",
    "mxt_flow = 13950 # Maximum turbochargeable flow\n",
    "simulation = Simulation(data=flow, mxt_flow=mxt_flow)"
   ]
  },
  {
   "cell_type": "code",
   "execution_count": 4,
   "metadata": {},
   "outputs": [],
   "source": [
    "scenery_eflows_ana_A = simulation.rule_02(hydro_start=\"A\")"
   ]
  },
  {
   "cell_type": "code",
   "execution_count": 5,
   "metadata": {},
   "outputs": [
    {
     "data": {
      "text/html": [
       "<div>\n",
       "<style scoped>\n",
       "    .dataframe tbody tr th:only-of-type {\n",
       "        vertical-align: middle;\n",
       "    }\n",
       "\n",
       "    .dataframe tbody tr th {\n",
       "        vertical-align: top;\n",
       "    }\n",
       "\n",
       "    .dataframe thead th {\n",
       "        text-align: right;\n",
       "    }\n",
       "</style>\n",
       "<table border=\"1\" class=\"dataframe\">\n",
       "  <thead>\n",
       "    <tr style=\"text-align: right;\">\n",
       "      <th></th>\n",
       "      <th>TVR</th>\n",
       "      <th>Derivation channel</th>\n",
       "      <th>Natural</th>\n",
       "    </tr>\n",
       "  </thead>\n",
       "  <tbody>\n",
       "    <tr>\n",
       "      <th>1970-03-01</th>\n",
       "      <td>2500.0</td>\n",
       "      <td>8648.00</td>\n",
       "      <td>11148.00</td>\n",
       "    </tr>\n",
       "    <tr>\n",
       "      <th>1970-03-02</th>\n",
       "      <td>2500.0</td>\n",
       "      <td>9209.00</td>\n",
       "      <td>11709.00</td>\n",
       "    </tr>\n",
       "    <tr>\n",
       "      <th>1970-03-03</th>\n",
       "      <td>2500.0</td>\n",
       "      <td>9974.00</td>\n",
       "      <td>12474.00</td>\n",
       "    </tr>\n",
       "    <tr>\n",
       "      <th>1970-03-04</th>\n",
       "      <td>2500.0</td>\n",
       "      <td>10852.00</td>\n",
       "      <td>13352.00</td>\n",
       "    </tr>\n",
       "    <tr>\n",
       "      <th>1970-03-05</th>\n",
       "      <td>2500.0</td>\n",
       "      <td>11632.00</td>\n",
       "      <td>14132.00</td>\n",
       "    </tr>\n",
       "    <tr>\n",
       "      <th>...</th>\n",
       "      <td>...</td>\n",
       "      <td>...</td>\n",
       "      <td>...</td>\n",
       "    </tr>\n",
       "    <tr>\n",
       "      <th>2018-08-27</th>\n",
       "      <td>900.0</td>\n",
       "      <td>214.00</td>\n",
       "      <td>1114.00</td>\n",
       "    </tr>\n",
       "    <tr>\n",
       "      <th>2018-08-28</th>\n",
       "      <td>900.0</td>\n",
       "      <td>226.26</td>\n",
       "      <td>1126.26</td>\n",
       "    </tr>\n",
       "    <tr>\n",
       "      <th>2018-08-29</th>\n",
       "      <td>900.0</td>\n",
       "      <td>262.30</td>\n",
       "      <td>1162.30</td>\n",
       "    </tr>\n",
       "    <tr>\n",
       "      <th>2018-08-30</th>\n",
       "      <td>900.0</td>\n",
       "      <td>319.23</td>\n",
       "      <td>1219.23</td>\n",
       "    </tr>\n",
       "    <tr>\n",
       "      <th>2018-08-31</th>\n",
       "      <td>900.0</td>\n",
       "      <td>226.99</td>\n",
       "      <td>1126.99</td>\n",
       "    </tr>\n",
       "  </tbody>\n",
       "</table>\n",
       "<p>17350 rows × 3 columns</p>\n",
       "</div>"
      ],
      "text/plain": [
       "               TVR  Derivation channel   Natural\n",
       "1970-03-01  2500.0             8648.00  11148.00\n",
       "1970-03-02  2500.0             9209.00  11709.00\n",
       "1970-03-03  2500.0             9974.00  12474.00\n",
       "1970-03-04  2500.0            10852.00  13352.00\n",
       "1970-03-05  2500.0            11632.00  14132.00\n",
       "...            ...                 ...       ...\n",
       "2018-08-27   900.0              214.00   1114.00\n",
       "2018-08-28   900.0              226.26   1126.26\n",
       "2018-08-29   900.0              262.30   1162.30\n",
       "2018-08-30   900.0              319.23   1219.23\n",
       "2018-08-31   900.0              226.99   1126.99\n",
       "\n",
       "[17350 rows x 3 columns]"
      ]
     },
     "execution_count": 5,
     "metadata": {},
     "output_type": "execute_result"
    }
   ],
   "source": [
    "#Remover ano de 2016\n",
    "date_start_del = pd.to_datetime(\"01/09/2015\", dayfirst=True)\n",
    "date_end_del = pd.to_datetime(\"31/08/2016\", dayfirst=True)\n",
    "data_del = pd.date_range(date_start_del, date_end_del, freq='D').values\n",
    "month_water = flow.month_start_year_hydrologic()[0]\n",
    "scenery_eflows_ana_A_del = scenery_eflows_ana_A[0].drop(data_del)\n",
    "data_tvr_scenery_eflows_ana_A = pd.DataFrame(scenery_eflows_ana_A_del.TVR)\n",
    "data_natural = pd.DataFrame(scenery_eflows_ana_A_del.Natural)\n",
    "scenery_eflows_ana_A_del"
   ]
  },
  {
   "cell_type": "markdown",
   "metadata": {},
   "source": [
    "# Scenery 02: ANA Start A"
   ]
  },
  {
   "cell_type": "code",
   "execution_count": null,
   "metadata": {},
   "outputs": [],
   "source": []
  }
 ],
 "metadata": {
  "kernelspec": {
   "display_name": "Python 3",
   "language": "python",
   "name": "python3"
  },
  "language_info": {
   "codemirror_mode": {
    "name": "ipython",
    "version": 3
   },
   "file_extension": ".py",
   "mimetype": "text/x-python",
   "name": "python",
   "nbconvert_exporter": "python",
   "pygments_lexer": "ipython3",
   "version": "3.7.4"
  }
 },
 "nbformat": 4,
 "nbformat_minor": 4
}
