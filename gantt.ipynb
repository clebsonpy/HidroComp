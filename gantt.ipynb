{
 "cells": [
  {
   "cell_type": "code",
   "execution_count": 1,
   "metadata": {},
   "outputs": [],
   "source": [
    "import pandas as pd\n",
    "import numpy as np\n",
    "import plotly as py\n",
    "\n",
    "from files.ons import Ons\n",
    "from files.ana import Ana\n",
    "from series.flow import Flow\n",
    "from series.chuva import Chuva"
   ]
  },
  {
   "cell_type": "code",
   "execution_count": 4,
   "metadata": {},
   "outputs": [
    {
     "data": {
      "text/plain": [
       "'file:///home/clebsonpy/Documents/Projetos/HydroComp/gráficos/gantt_c.html'"
      ]
     },
     "execution_count": 4,
     "metadata": {},
     "output_type": "execute_result"
    }
   ],
   "source": [
    "#Local dos arquivo\n",
    "file = \"/home/clebsonpy/Documents/Projetos/HydroComp/Medicoes/\"\n",
    "\n",
    "dado = Flow(path=file, source='ANA', consistence=2)\n",
    "dados_n = Flow(path=file, source='ONS', station = \"TRES MARIAS\")\n",
    "#dados_chuva = Chuva(path=file, source='ANA', consistence=1)\n",
    "#dado = dado.data.combine_first(dados_chuva.data)\n",
    "dado = dado.data.combine_first(dados_n.data)\n",
    "dados = Chuva(dado)\n",
    "\n",
    "\n",
    "fig_gantt = dados.gantt()\n",
    "py.offline.plot(fig_gantt, filename='gráficos/gantt_c.html')"
   ]
  },
  {
   "cell_type": "code",
   "execution_count": 10,
   "metadata": {},
   "outputs": [],
   "source": [
    "dados.data.to_csv(\"Rosana.csv\")"
   ]
  }
 ],
 "metadata": {
  "kernelspec": {
   "display_name": "Python 3",
   "language": "python",
   "name": "python3"
  },
  "language_info": {
   "codemirror_mode": {
    "name": "ipython",
    "version": 3
   },
   "file_extension": ".py",
   "mimetype": "text/x-python",
   "name": "python",
   "nbconvert_exporter": "python",
   "pygments_lexer": "ipython3",
   "version": "3.6.7"
  }
 },
 "nbformat": 4,
 "nbformat_minor": 2
}
