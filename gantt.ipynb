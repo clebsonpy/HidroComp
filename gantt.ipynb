{
 "cells": [
  {
   "cell_type": "code",
   "execution_count": 1,
   "metadata": {},
   "outputs": [],
   "source": [
    "import pandas as pd\n",
    "import numpy as np\n",
    "import plotly as py\n",
    "\n",
    "from files.ons import Ons\n",
    "from files.ana import Ana\n",
    "from series.flow import Flow\n",
    "from series.chuva import Chuva"
   ]
  },
  {
   "cell_type": "code",
   "execution_count": 9,
   "metadata": {},
   "outputs": [
    {
     "name": "stdout",
     "output_type": "stream",
     "text": [
      "1036062\n",
      "         Fim     Inicio\n",
      "0 2005-12-31 1989-08-17\n",
      "1 2008-03-17 2006-02-01\n",
      "2 2009-05-15 2008-04-03\n",
      "3 2012-10-30 2009-06-09\n",
      "4 2019-02-28 2012-11-01\n",
      "39980000\n",
      "          Fim     Inicio\n",
      "0  1981-02-28 1977-10-10\n",
      "1  1990-02-21 1981-03-25\n",
      "2  1990-03-30 1990-03-23\n",
      "3  1991-11-30 1990-04-23\n",
      "4  2005-05-03 1992-01-24\n",
      "5  2007-08-31 2005-07-20\n",
      "6  2008-03-17 2007-09-09\n",
      "7  2008-06-11 2008-04-03\n",
      "8  2008-08-04 2008-07-05\n",
      "9  2008-10-31 2008-10-01\n",
      "10 2011-01-04 2009-06-01\n",
      "11 2011-12-05 2011-02-27\n",
      "12 2012-01-12 2012-01-01\n",
      "13 2012-03-25 2012-01-22\n",
      "14 2012-04-30 2012-04-01\n",
      "15 2014-12-31 2012-05-18\n"
     ]
    },
    {
     "data": {
      "text/plain": [
       "'file:///home/clebsonpy/Documentos/Projetos/HydroComp/gráficos/gantt_c.html'"
      ]
     },
     "execution_count": 9,
     "metadata": {},
     "output_type": "execute_result"
    }
   ],
   "source": [
    "#Local dos arquivo\n",
    "file = \"/home/clebsonpy/Documentos/Projetos/HydroComp/Medicoes/\"\n",
    "\n",
    "dado = Flow(path=file, source='ANA', consistence=2)\n",
    "dados_chuva = Chuva(path=file, source='ANA', consistence=1)\n",
    "dados = Chuva(dado.data.combine_first(dados_chuva.data))\n",
    "fig_gantt = dados.gantt()\n",
    "py.offline.plot(fig_gantt, filename='gráficos/gantt_c.html')"
   ]
  },
  {
   "cell_type": "code",
   "execution_count": null,
   "metadata": {},
   "outputs": [],
   "source": []
  }
 ],
 "metadata": {
  "kernelspec": {
   "display_name": "Python 3",
   "language": "python",
   "name": "python3"
  },
  "language_info": {
   "codemirror_mode": {
    "name": "ipython",
    "version": 3
   },
   "file_extension": ".py",
   "mimetype": "text/x-python",
   "name": "python",
   "nbconvert_exporter": "python",
   "pygments_lexer": "ipython3",
   "version": "3.6.7"
  }
 },
 "nbformat": 4,
 "nbformat_minor": 2
}
