{
 "cells": [
  {
   "cell_type": "markdown",
   "metadata": {},
   "source": [
    "# Predição: Análise local de extremos\n",
    "## Universidade Federal de Alagoas - UFAL\n",
    "## Centro de Tecnologia - CTEC\n",
    "## Programa de Pós-Graduação Recursos Hídricos e Saneamento - PPGRHS\n",
    "Disciplina de Estatística\n",
    "Clebson Farias"
   ]
  },
  {
   "cell_type": "markdown",
   "metadata": {},
   "source": [
    "Predição: Obtenção de valores da variável hidrológica associados a certas probabilidades de excedência;\n",
    "\n",
    "Local: Única série de registros;\n",
    "\n",
    "Podem ser realizada a partir das séries de anual ou de duração parcial;\n",
    "\n",
    "Séries Anuais: Um único valor para cada ano de observações(Hidrológico, Civil, );\n",
    "\n",
    "As séries de duração parcial consistem das observações independentes de magnitude superior (ou inferior) a certo valor limiar de referência.\n",
    "\n",
    "![](event_pac.png)\n"
   ]
  },
  {
   "cell_type": "markdown",
   "metadata": {},
   "source": [
    "As séries constituídas devem ser representativas, não apresentando erros de observação e falhas, possuir um número suficiente de elementos.\n",
    "\n",
    "Os dados sejam homogêneos e independentes;\n",
    "\n",
    "Homogeneidade: Extraídas de uma única população; \n",
    "\n",
    "Independência: Não exista dependência serial entre os elementos;\n",
    "\n",
    "A **análise de freqüência** pode ser:\n",
    "\n",
    "- **Modo analítico**:  função paramétrica descreva o comportamento probabilístico da variável hidrológica;\n",
    "\n",
    "- **Modo empírico**:  o analista grafa as observações ordenadas contra uma escala de probabilidades e utiliza seu melhor julgamento para determinar a associação entre as magnitudes de ocorrências passadas;\n",
    "\n",
    "De modo resumido, as etapas para análise de freqüência local são as seguintes:\n",
    "\n",
    "- Optar pela utilização de séries anuais ou séries de duração parcial.\n",
    "- Avaliar os dados das séries, quanto aos atributos de homogeneidade, independência e representatividade.\n",
    "\n",
    "- Propor uma ou algumas distribuições teóricas de probabilidade, com a estimativa de seus respectivos parâmetros, quantis e intervalos de confiança, seguida da verificação de aderência à distribuição empírica.\n",
    "\n",
    "- Realizar a identificação e tratamento de eventuais pontos atípicos, com possível repetição de algumas etapas precedentes.\n",
    "\n",
    "- Selecionar o modelo distributivo mais apropriado\n"
   ]
  },
  {
   "cell_type": "code",
   "execution_count": 1,
   "metadata": {},
   "outputs": [],
   "source": [
    "import pandas as pd\n",
    "import numpy as np\n",
    "import plotly as py\n",
    "\n",
    "from files.ons import Ons\n",
    "from files.ana import Ana\n",
    "from series.flow import Flow\n",
    "from series.chuva import Chuva"
   ]
  },
  {
   "cell_type": "code",
   "execution_count": 2,
   "metadata": {},
   "outputs": [
    {
     "data": {
      "text/plain": [
       "'gráficos/histo.html'"
      ]
     },
     "execution_count": 2,
     "metadata": {},
     "output_type": "execute_result"
    }
   ],
   "source": [
    "file = \"dados_com_evap_manso.csv\"\n",
    "dados = pd.read_csv(file, index_col=0, parse_dates=True)\n",
    "#Convetendo obj pandas para Series Flow\n",
    "dados = Flow(pd.DataFrame(dados[\"MANSO\"]))\n",
    "fig, data = dados.plot_hydrogram()\n",
    "py.offline.plot(fig, filename='gráficos/histo.html')"
   ]
  },
  {
   "cell_type": "markdown",
   "metadata": {},
   "source": [
    "![](hidrograma_manso.png)"
   ]
  },
  {
   "cell_type": "markdown",
   "metadata": {},
   "source": [
    "# Máximas Anuais"
   ]
  },
  {
   "cell_type": "code",
   "execution_count": 3,
   "metadata": {},
   "outputs": [
    {
     "data": {
      "text/html": [
       "<div>\n",
       "<style scoped>\n",
       "    .dataframe tbody tr th:only-of-type {\n",
       "        vertical-align: middle;\n",
       "    }\n",
       "\n",
       "    .dataframe tbody tr th {\n",
       "        vertical-align: top;\n",
       "    }\n",
       "\n",
       "    .dataframe thead th {\n",
       "        text-align: right;\n",
       "    }\n",
       "</style>\n",
       "<table border=\"1\" class=\"dataframe\">\n",
       "  <thead>\n",
       "    <tr style=\"text-align: right;\">\n",
       "      <th></th>\n",
       "      <th>peaks</th>\n",
       "    </tr>\n",
       "  </thead>\n",
       "  <tbody>\n",
       "    <tr>\n",
       "      <th>1982-02-03</th>\n",
       "      <td>1126.0</td>\n",
       "    </tr>\n",
       "    <tr>\n",
       "      <th>1983-01-19</th>\n",
       "      <td>1193.0</td>\n",
       "    </tr>\n",
       "    <tr>\n",
       "      <th>1983-12-02</th>\n",
       "      <td>1118.0</td>\n",
       "    </tr>\n",
       "    <tr>\n",
       "      <th>1985-01-08</th>\n",
       "      <td>1157.0</td>\n",
       "    </tr>\n",
       "    <tr>\n",
       "      <th>1986-02-21</th>\n",
       "      <td>1088.0</td>\n",
       "    </tr>\n",
       "  </tbody>\n",
       "</table>\n",
       "</div>"
      ],
      "text/plain": [
       "             peaks\n",
       "1982-02-03  1126.0\n",
       "1983-01-19  1193.0\n",
       "1983-12-02  1118.0\n",
       "1985-01-08  1157.0\n",
       "1986-02-21  1088.0"
      ]
     },
     "execution_count": 3,
     "metadata": {},
     "output_type": "execute_result"
    }
   ],
   "source": [
    "peaks_max = dados.maximum(station=\"MANSO\")\n",
    "peaks_max.peaks.head()"
   ]
  },
  {
   "cell_type": "code",
   "execution_count": 4,
   "metadata": {},
   "outputs": [
    {
     "data": {
      "text/plain": [
       "'gráficos/histo_max.html'"
      ]
     },
     "execution_count": 4,
     "metadata": {},
     "output_type": "execute_result"
    }
   ],
   "source": [
    "fig, data = peaks_max.plot_hydrogram()\n",
    "py.offline.plot(fig, filename='gráficos/histo_max.html')"
   ]
  },
  {
   "cell_type": "markdown",
   "metadata": {},
   "source": [
    "![](maximas_anuais.png)"
   ]
  },
  {
   "cell_type": "markdown",
   "metadata": {},
   "source": [
    "## Máxima Verossimilhança"
   ]
  },
  {
   "cell_type": "code",
   "execution_count": 5,
   "metadata": {},
   "outputs": [
    {
     "data": {
      "text/plain": [
       "(-5.721987476983145, 149.63189576303387, 2.1852412410130952)"
      ]
     },
     "execution_count": 5,
     "metadata": {},
     "output_type": "execute_result"
    }
   ],
   "source": [
    "peaks_max.mvs()\n",
    "peaks_max.fit"
   ]
  },
  {
   "cell_type": "code",
   "execution_count": 6,
   "metadata": {},
   "outputs": [
    {
     "data": {
      "text/plain": [
       "'gráficos/distrib_anual_mvs.html'"
      ]
     },
     "execution_count": 6,
     "metadata": {},
     "output_type": "execute_result"
    }
   ],
   "source": [
    "estimador = 'mvs'\n",
    "title = 'Manso Nat'\n",
    "type_function = 'cumulative'\n",
    "fig, data = peaks_max.plot_distribution(title, estimador, type_function)\n",
    "py.offline.plot(fig, filename='gráficos/distrib_anual_mvs.html')"
   ]
  },
  {
   "cell_type": "markdown",
   "metadata": {},
   "source": [
    "![](cdf_manso_mvs.png)"
   ]
  },
  {
   "cell_type": "code",
   "execution_count": 8,
   "metadata": {},
   "outputs": [
    {
     "data": {
      "text/plain": [
       "'gráficos/distrib_D_anual_mvs.html'"
      ]
     },
     "execution_count": 8,
     "metadata": {},
     "output_type": "execute_result"
    }
   ],
   "source": [
    "estimador = 'mvs'\n",
    "title = 'Manso Nat'\n",
    "type_function = 'density'\n",
    "fig, data = peaks_max.plot_distribution(title, estimador, type_function)\n",
    "py.offline.plot(fig, filename='gráficos/distrib_D_anual_mvs.html')"
   ]
  },
  {
   "cell_type": "markdown",
   "metadata": {},
   "source": [
    "![](pdf_manso_mvs.png)"
   ]
  },
  {
   "cell_type": "code",
   "execution_count": 9,
   "metadata": {},
   "outputs": [
    {
     "data": {
      "text/plain": [
       "150.013760014353"
      ]
     },
     "execution_count": 9,
     "metadata": {},
     "output_type": "execute_result"
    }
   ],
   "source": [
    "period_return = 5\n",
    "mag = peaks_max.magnitude(period_return, estimador)\n",
    "mag"
   ]
  },
  {
   "cell_type": "code",
   "execution_count": 10,
   "metadata": {},
   "outputs": [
    {
     "data": {
      "text/plain": [
       "150.01379752442776"
      ]
     },
     "execution_count": 10,
     "metadata": {},
     "output_type": "execute_result"
    }
   ],
   "source": [
    "period_return = 10\n",
    "mag = peaks_max.magnitude(period_return, estimador)\n",
    "mag"
   ]
  },
  {
   "cell_type": "markdown",
   "metadata": {},
   "source": [
    "# Momentos L"
   ]
  },
  {
   "cell_type": "code",
   "execution_count": 11,
   "metadata": {},
   "outputs": [
    {
     "data": {
      "text/plain": [
       "[0.20638553042392516, 1003.1174140035938, 333.9667588766301]"
      ]
     },
     "execution_count": 11,
     "metadata": {},
     "output_type": "execute_result"
    }
   ],
   "source": [
    "peaks_max.mml()\n",
    "peaks_max.fit"
   ]
  },
  {
   "cell_type": "code",
   "execution_count": 12,
   "metadata": {},
   "outputs": [
    {
     "data": {
      "text/plain": [
       "'gráficos/distrib_anual_mml.html'"
      ]
     },
     "execution_count": 12,
     "metadata": {},
     "output_type": "execute_result"
    }
   ],
   "source": [
    "estimador = 'mml'\n",
    "title = 'Manso Nat'\n",
    "type_function = 'cumulative'\n",
    "fig, data = peaks_max.plot_distribution(title, estimador, type_function)\n",
    "py.offline.plot(fig, filename='gráficos/distrib_anual_mml.html')"
   ]
  },
  {
   "cell_type": "markdown",
   "metadata": {},
   "source": [
    "![](cdf_manso_mml.png)"
   ]
  },
  {
   "cell_type": "code",
   "execution_count": 15,
   "metadata": {},
   "outputs": [
    {
     "data": {
      "text/plain": [
       "'gráficos/distrib_d_anual_mml.html'"
      ]
     },
     "execution_count": 15,
     "metadata": {},
     "output_type": "execute_result"
    }
   ],
   "source": [
    "estimador = 'mml'\n",
    "title = 'Manso Nat'\n",
    "type_function = 'density'\n",
    "fig, data = peaks_max.plot_distribution(title, estimador, type_function)\n",
    "py.offline.plot(fig, filename='gráficos/distrib_d_anual_mml.html')"
   ]
  },
  {
   "cell_type": "markdown",
   "metadata": {},
   "source": [
    "![](pdf_manso_mml.png)"
   ]
  },
  {
   "cell_type": "code",
   "execution_count": 16,
   "metadata": {},
   "outputs": [
    {
     "data": {
      "text/plain": [
       "2214.7249828256026"
      ]
     },
     "execution_count": 16,
     "metadata": {},
     "output_type": "execute_result"
    }
   ],
   "source": [
    "period_return = 15\n",
    "mag = peaks_max.magnitude(period_return, estimador)\n",
    "mag"
   ]
  },
  {
   "cell_type": "code",
   "execution_count": 17,
   "metadata": {},
   "outputs": [
    {
     "data": {
      "text/plain": [
       "1640.64771862514"
      ]
     },
     "execution_count": 17,
     "metadata": {},
     "output_type": "execute_result"
    }
   ],
   "source": [
    "period_return = 5\n",
    "mag = peaks_max.magnitude(period_return, estimador)\n",
    "mag"
   ]
  },
  {
   "cell_type": "code",
   "execution_count": 18,
   "metadata": {},
   "outputs": [
    {
     "data": {
      "text/plain": [
       "1251.9819896874033"
      ]
     },
     "execution_count": 18,
     "metadata": {},
     "output_type": "execute_result"
    }
   ],
   "source": [
    "period_return = 2\n",
    "mag = peaks_max.magnitude(period_return, estimador)\n",
    "mag"
   ]
  },
  {
   "cell_type": "markdown",
   "metadata": {},
   "source": [
    "# Séries de Durações Parciais"
   ]
  },
  {
   "cell_type": "code",
   "execution_count": 19,
   "metadata": {},
   "outputs": [
    {
     "data": {
      "text/html": [
       "<div>\n",
       "<style scoped>\n",
       "    .dataframe tbody tr th:only-of-type {\n",
       "        vertical-align: middle;\n",
       "    }\n",
       "\n",
       "    .dataframe tbody tr th {\n",
       "        vertical-align: top;\n",
       "    }\n",
       "\n",
       "    .dataframe thead th {\n",
       "        text-align: right;\n",
       "    }\n",
       "</style>\n",
       "<table border=\"1\" class=\"dataframe\">\n",
       "  <thead>\n",
       "    <tr style=\"text-align: right;\">\n",
       "      <th></th>\n",
       "      <th>Duration</th>\n",
       "      <th>Start</th>\n",
       "      <th>End</th>\n",
       "      <th>peaks</th>\n",
       "    </tr>\n",
       "  </thead>\n",
       "  <tbody>\n",
       "    <tr>\n",
       "      <th>1982-02-03</th>\n",
       "      <td>114</td>\n",
       "      <td>1982-01-01</td>\n",
       "      <td>1982-04-25</td>\n",
       "      <td>1126.0</td>\n",
       "    </tr>\n",
       "    <tr>\n",
       "      <th>1983-01-19</th>\n",
       "      <td>120</td>\n",
       "      <td>1982-12-15</td>\n",
       "      <td>1983-04-14</td>\n",
       "      <td>1193.0</td>\n",
       "    </tr>\n",
       "    <tr>\n",
       "      <th>1983-12-02</th>\n",
       "      <td>195</td>\n",
       "      <td>1983-11-02</td>\n",
       "      <td>1984-05-15</td>\n",
       "      <td>1118.0</td>\n",
       "    </tr>\n",
       "    <tr>\n",
       "      <th>1984-11-23</th>\n",
       "      <td>4</td>\n",
       "      <td>1984-11-21</td>\n",
       "      <td>1984-11-25</td>\n",
       "      <td>418.0</td>\n",
       "    </tr>\n",
       "    <tr>\n",
       "      <th>1985-01-08</th>\n",
       "      <td>130</td>\n",
       "      <td>1984-11-29</td>\n",
       "      <td>1985-04-08</td>\n",
       "      <td>1157.0</td>\n",
       "    </tr>\n",
       "  </tbody>\n",
       "</table>\n",
       "</div>"
      ],
      "text/plain": [
       "            Duration      Start        End   peaks\n",
       "1982-02-03       114 1982-01-01 1982-04-25  1126.0\n",
       "1983-01-19       120 1982-12-15 1983-04-14  1193.0\n",
       "1983-12-02       195 1983-11-02 1984-05-15  1118.0\n",
       "1984-11-23         4 1984-11-21 1984-11-25   418.0\n",
       "1985-01-08       130 1984-11-29 1985-04-08  1157.0"
      ]
     },
     "execution_count": 19,
     "metadata": {},
     "output_type": "execute_result"
    }
   ],
   "source": [
    "station = \"MANSO\"\n",
    "#'stationary' or 'events_by_year'\n",
    "type_threshold = 'stationary' \n",
    "#'flood' or 'drought'\n",
    "type_event = 'flood'\n",
    "#'media', 'mediana' or 'autocorrelation' \n",
    "type_criterion = 'median'\n",
    "#Peaks or percentil\n",
    "value_threshold = 0.75\n",
    "\n",
    "peaks_sdp = dados.parcial(station, type_threshold, type_event, type_criterion, value_threshold)\n",
    "peaks_sdp.peaks.head()"
   ]
  },
  {
   "cell_type": "code",
   "execution_count": 20,
   "metadata": {},
   "outputs": [
    {
     "data": {
      "text/plain": [
       "'gráficos/histo_sdp.html'"
      ]
     },
     "execution_count": 20,
     "metadata": {},
     "output_type": "execute_result"
    }
   ],
   "source": [
    "fig, data = peaks_sdp.plot_hydrogram(title='SDP-Manso')\n",
    "py.offline.plot(fig, filename='gráficos/histo_sdp.html')"
   ]
  },
  {
   "cell_type": "markdown",
   "metadata": {},
   "source": [
    "![](sdp_hidro.png)"
   ]
  },
  {
   "cell_type": "markdown",
   "metadata": {},
   "source": [
    "![](sdp_hidro_zoom.png)"
   ]
  },
  {
   "cell_type": "markdown",
   "metadata": {},
   "source": [
    "## Máxima Verossimilhança"
   ]
  },
  {
   "cell_type": "code",
   "execution_count": 22,
   "metadata": {},
   "outputs": [
    {
     "name": "stderr",
     "output_type": "stream",
     "text": [
      "/home/clebsonpy/Documents/Projetos/HydroComp/venv/lib/python3.6/site-packages/scipy/stats/_continuous_distns.py:2062: RuntimeWarning:\n",
      "\n",
      "divide by zero encountered in true_divide\n",
      "\n",
      "/home/clebsonpy/Documents/Projetos/HydroComp/venv/lib/python3.6/site-packages/scipy/stats/_distn_infrastructure.py:1037: RuntimeWarning:\n",
      "\n",
      "invalid value encountered in subtract\n",
      "\n",
      "/home/clebsonpy/Documents/Projetos/HydroComp/venv/lib/python3.6/site-packages/scipy/stats/_distn_infrastructure.py:2306: RuntimeWarning:\n",
      "\n",
      "invalid value encountered in double_scalars\n",
      "\n"
     ]
    },
    {
     "data": {
      "text/plain": [
       "(-0.2160562934977424, 217.99585474281037, 638.0504071922765)"
      ]
     },
     "execution_count": 22,
     "metadata": {},
     "output_type": "execute_result"
    }
   ],
   "source": [
    "peaks_sdp.mvs()\n",
    "peaks_sdp.fit"
   ]
  },
  {
   "cell_type": "code",
   "execution_count": 23,
   "metadata": {},
   "outputs": [
    {
     "data": {
      "text/plain": [
       "'gráficos/distrib_sdp_mvs.html'"
      ]
     },
     "execution_count": 23,
     "metadata": {},
     "output_type": "execute_result"
    }
   ],
   "source": [
    "title = 'Manso Nat'\n",
    "type_function = 'cumulative'\n",
    "fig, data = peaks_sdp.plot_distribution(title, type_function)\n",
    "py.offline.plot(fig, filename='gráficos/distrib_sdp_mvs.html')"
   ]
  },
  {
   "cell_type": "markdown",
   "metadata": {},
   "source": [
    "![](cdf_sdp_manso_mvs.png)"
   ]
  },
  {
   "cell_type": "code",
   "execution_count": 24,
   "metadata": {},
   "outputs": [
    {
     "data": {
      "text/plain": [
       "1085.3703015123128"
      ]
     },
     "execution_count": 24,
     "metadata": {},
     "output_type": "execute_result"
    }
   ],
   "source": [
    "period_return = 5\n",
    "mag = peaks_sdp.magnitude(period_return)\n",
    "mag"
   ]
  },
  {
   "cell_type": "code",
   "execution_count": 25,
   "metadata": {},
   "outputs": [
    {
     "data": {
      "text/plain": [
       "1375.4715763026747"
      ]
     },
     "execution_count": 25,
     "metadata": {},
     "output_type": "execute_result"
    }
   ],
   "source": [
    "period_return = 10\n",
    "mag = peaks_sdp.magnitude(period_return)\n",
    "mag"
   ]
  },
  {
   "cell_type": "code",
   "execution_count": 26,
   "metadata": {},
   "outputs": [
    {
     "data": {
      "text/plain": [
       "1526.086579216705"
      ]
     },
     "execution_count": 26,
     "metadata": {},
     "output_type": "execute_result"
    }
   ],
   "source": [
    "period_return = 15\n",
    "mag = peaks_sdp.magnitude(period_return)\n",
    "mag"
   ]
  }
 ],
 "metadata": {
  "kernelspec": {
   "display_name": "Python 3",
   "language": "python",
   "name": "python3"
  },
  "language_info": {
   "codemirror_mode": {
    "name": "ipython",
    "version": 3
   },
   "file_extension": ".py",
   "mimetype": "text/x-python",
   "name": "python",
   "nbconvert_exporter": "python",
   "pygments_lexer": "ipython3",
   "version": "3.6.7"
  }
 },
 "nbformat": 4,
 "nbformat_minor": 2
}
