{
 "cells": [
  {
   "cell_type": "code",
   "execution_count": 1,
   "metadata": {
    "pycharm": {
     "is_executing": true
    }
   },
   "outputs": [
    {
     "name": "stdout",
     "output_type": "stream",
     "text": [
      "            49330000\n",
      "Date                \n",
      "1976-11-01   974.296\n",
      "1976-11-02   900.695\n",
      "1976-11-03  1017.060\n",
      "1976-11-04   950.963\n",
      "1976-11-05   955.606\n",
      "...              ...\n",
      "2019-12-27   826.408\n",
      "2019-12-28   795.753\n",
      "2019-12-29   806.985\n",
      "2019-12-30   815.052\n",
      "2019-12-31   800.558\n",
      "\n",
      "[15766 rows x 1 columns]\n"
     ]
    }
   ],
   "source": [
    "from hidrocomp.series.flow import Flow\n",
    "flow = Flow(station=\"49330000\", source=\"ANA\")\n",
    "print(flow.data)"
   ]
  },
  {
   "cell_type": "code",
   "execution_count": 7,
   "metadata": {
    "pycharm": {
     "is_executing": false
    }
   },
   "outputs": [],
   "source": [
    "import hidrocomp"
   ]
  },
  {
   "cell_type": "code",
   "execution_count": null,
   "metadata": {},
   "outputs": [],
   "source": []
  }
 ],
 "metadata": {
  "kernelspec": {
   "display_name": "Python 3",
   "language": "python",
   "name": "python3"
  },
  "language_info": {
   "codemirror_mode": {
    "name": "ipython",
    "version": 3
   },
   "file_extension": ".py",
   "mimetype": "text/x-python",
   "name": "python",
   "nbconvert_exporter": "python",
   "pygments_lexer": "ipython3",
   "version": "3.7.4"
  },
  "pycharm": {
   "stem_cell": {
    "cell_type": "raw",
    "metadata": {
     "collapsed": false
    },
    "source": []
   }
  }
 },
 "nbformat": 4,
 "nbformat_minor": 4
}
