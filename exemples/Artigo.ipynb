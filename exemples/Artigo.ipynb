{
 "cells": [
  {
   "cell_type": "markdown",
   "metadata": {},
   "source": [
    "### O pulso ainda pulsa? Como regimes de vazões (**nacionais**?) têm sido modificados\n",
    "\n",
    "Anotações para elaboração do artigo SBRH;\n",
    "\n",
    "Clebson"
   ]
  },
  {
   "cell_type": "code",
   "execution_count": 1,
   "metadata": {},
   "outputs": [],
   "source": [
    "import pandas as pd\n",
    "import numpy as np\n",
    "import plotly as py\n",
    "\n",
    "from files.ons import Ons\n",
    "from files.ana import Ana\n",
    "from series.flow import Flow\n",
    "from series.chuva import Chuva"
   ]
  },
  {
   "cell_type": "code",
   "execution_count": 2,
   "metadata": {},
   "outputs": [
    {
     "data": {
      "text/html": [
       "<div>\n",
       "<style scoped>\n",
       "    .dataframe tbody tr th:only-of-type {\n",
       "        vertical-align: middle;\n",
       "    }\n",
       "\n",
       "    .dataframe tbody tr th {\n",
       "        vertical-align: top;\n",
       "    }\n",
       "\n",
       "    .dataframe thead th {\n",
       "        text-align: right;\n",
       "    }\n",
       "</style>\n",
       "<table border=\"1\" class=\"dataframe\">\n",
       "  <thead>\n",
       "    <tr style=\"text-align: right;\">\n",
       "      <th></th>\n",
       "      <th>XINGO</th>\n",
       "    </tr>\n",
       "    <tr>\n",
       "      <th>Date</th>\n",
       "      <th></th>\n",
       "    </tr>\n",
       "  </thead>\n",
       "  <tbody>\n",
       "    <tr>\n",
       "      <th>1931-01-01</th>\n",
       "      <td>5512.0</td>\n",
       "    </tr>\n",
       "    <tr>\n",
       "      <th>1931-01-02</th>\n",
       "      <td>5512.0</td>\n",
       "    </tr>\n",
       "    <tr>\n",
       "      <th>1931-01-03</th>\n",
       "      <td>5515.0</td>\n",
       "    </tr>\n",
       "    <tr>\n",
       "      <th>1931-01-04</th>\n",
       "      <td>5525.0</td>\n",
       "    </tr>\n",
       "    <tr>\n",
       "      <th>1931-01-05</th>\n",
       "      <td>5547.0</td>\n",
       "    </tr>\n",
       "  </tbody>\n",
       "</table>\n",
       "</div>"
      ],
      "text/plain": [
       "             XINGO\n",
       "Date              \n",
       "1931-01-01  5512.0\n",
       "1931-01-02  5512.0\n",
       "1931-01-03  5515.0\n",
       "1931-01-04  5525.0\n",
       "1931-01-05  5547.0"
      ]
     },
     "execution_count": 2,
     "metadata": {},
     "output_type": "execute_result"
    }
   ],
   "source": [
    "#Local dos arquivos\n",
    "file = \"dadosXingo.csv\"\n",
    "\n",
    "#Leitura do arquivo de vazões naturais\n",
    "dados = pd.read_csv(file, index_col=0, parse_dates=True, names=[\"Date\", \"XINGO\"])\n",
    "dados_nat = Flow(dados, source=\"ONS\", station = \"Xingo\", delete_null=True)\n",
    "dados_nat.data.head()"
   ]
  },
  {
   "cell_type": "code",
   "execution_count": 3,
   "metadata": {},
   "outputs": [
    {
     "name": "stderr",
     "output_type": "stream",
     "text": [
      "/home/clebsonpy/Documents/Projetos/HydroComp/venv/lib/python3.6/site-packages/plotly/graph_objs/_deprecations.py:531: DeprecationWarning:\n",
      "\n",
      "plotly.graph_objs.XAxis is deprecated.\n",
      "Please replace it with one of the following more specific types\n",
      "  - plotly.graph_objs.layout.XAxis\n",
      "  - plotly.graph_objs.layout.scene.XAxis\n",
      "\n",
      "\n",
      "/home/clebsonpy/Documents/Projetos/HydroComp/venv/lib/python3.6/site-packages/plotly/graph_objs/_deprecations.py:558: DeprecationWarning:\n",
      "\n",
      "plotly.graph_objs.YAxis is deprecated.\n",
      "Please replace it with one of the following more specific types\n",
      "  - plotly.graph_objs.layout.YAxis\n",
      "  - plotly.graph_objs.layout.scene.YAxis\n",
      "\n",
      "\n"
     ]
    },
    {
     "data": {
      "text/plain": [
       "'simple-inset.html'"
      ]
     },
     "execution_count": 3,
     "metadata": {},
     "output_type": "execute_result"
    }
   ],
   "source": [
    "fig, data = dados_nat.plot_hydrogram()\n",
    "py.offline.plot(fig, filename='simple-inset.html')"
   ]
  },
  {
   "cell_type": "code",
   "execution_count": 9,
   "metadata": {},
   "outputs": [
    {
     "ename": "TypeError",
     "evalue": "parcial() takes 6 positional arguments but 7 were given",
     "output_type": "error",
     "traceback": [
      "\u001b[0;31m---------------------------------------------------------------------------\u001b[0m",
      "\u001b[0;31mTypeError\u001b[0m                                 Traceback (most recent call last)",
      "\u001b[0;32m<ipython-input-9-a20faf0921a1>\u001b[0m in \u001b[0;36m<module>\u001b[0;34m()\u001b[0m\n\u001b[1;32m     10\u001b[0m \u001b[0mduration\u001b[0m \u001b[0;34m=\u001b[0m \u001b[0;36m0\u001b[0m\u001b[0;34m\u001b[0m\u001b[0;34m\u001b[0m\u001b[0m\n\u001b[1;32m     11\u001b[0m \u001b[0;34m\u001b[0m\u001b[0m\n\u001b[0;32m---> 12\u001b[0;31m \u001b[0mpeaks_sdp\u001b[0m \u001b[0;34m=\u001b[0m \u001b[0mdados_nat\u001b[0m\u001b[0;34m.\u001b[0m\u001b[0mparcial\u001b[0m\u001b[0;34m(\u001b[0m\u001b[0mstation\u001b[0m\u001b[0;34m,\u001b[0m \u001b[0mtype_threshold\u001b[0m\u001b[0;34m,\u001b[0m \u001b[0mtype_event\u001b[0m\u001b[0;34m,\u001b[0m \u001b[0mtype_criterion\u001b[0m\u001b[0;34m,\u001b[0m \u001b[0mvalue_threshold\u001b[0m\u001b[0;34m,\u001b[0m \u001b[0mduration\u001b[0m\u001b[0;34m)\u001b[0m\u001b[0;34m\u001b[0m\u001b[0;34m\u001b[0m\u001b[0m\n\u001b[0m\u001b[1;32m     13\u001b[0m \u001b[0mpeaks_sdp\u001b[0m\u001b[0;34m.\u001b[0m\u001b[0mpeaks\u001b[0m\u001b[0;34m.\u001b[0m\u001b[0mhead\u001b[0m\u001b[0;34m(\u001b[0m\u001b[0;34m)\u001b[0m\u001b[0;34m\u001b[0m\u001b[0;34m\u001b[0m\u001b[0m\n",
      "\u001b[0;31mTypeError\u001b[0m: parcial() takes 6 positional arguments but 7 were given"
     ]
    }
   ],
   "source": [
    "station = \"XINGO\"\n",
    "#'stationary' or 'events_by_year'\n",
    "type_threshold = 'events_by_year' \n",
    "#'flood' or 'drought'\n",
    "type_event = 'flood'\n",
    "#'media', 'mediana' or 'autocorrelation' \n",
    "type_criterion = 'autocorrelation'\n",
    "#Peaks or percentil\n",
    "value_threshold = 3\n",
    "duration = 0\n",
    "\n",
    "peaks_sdp = dados_nat.parcial(station, type_threshold, type_event, type_criterion, value_threshold, duration)\n",
    "peaks_sdp.peaks.head()"
   ]
  },
  {
   "cell_type": "code",
   "execution_count": 8,
   "metadata": {},
   "outputs": [
    {
     "name": "stderr",
     "output_type": "stream",
     "text": [
      "/home/clebsonpy/Documents/Projetos/HydroComp/venv/lib/python3.6/site-packages/plotly/graph_objs/_deprecations.py:531: DeprecationWarning:\n",
      "\n",
      "plotly.graph_objs.XAxis is deprecated.\n",
      "Please replace it with one of the following more specific types\n",
      "  - plotly.graph_objs.layout.XAxis\n",
      "  - plotly.graph_objs.layout.scene.XAxis\n",
      "\n",
      "\n",
      "/home/clebsonpy/Documents/Projetos/HydroComp/venv/lib/python3.6/site-packages/plotly/graph_objs/_deprecations.py:558: DeprecationWarning:\n",
      "\n",
      "plotly.graph_objs.YAxis is deprecated.\n",
      "Please replace it with one of the following more specific types\n",
      "  - plotly.graph_objs.layout.YAxis\n",
      "  - plotly.graph_objs.layout.scene.YAxis\n",
      "\n",
      "\n"
     ]
    },
    {
     "data": {
      "text/plain": [
       "'gráficos/histo_sdp_xingo.html'"
      ]
     },
     "execution_count": 8,
     "metadata": {},
     "output_type": "execute_result"
    }
   ],
   "source": [
    "fig, data = peaks_sdp.plot_hydrogram(title='SDP-Xingo')\n",
    "py.offline.plot(fig, filename='gráficos/histo_sdp_xingo.html')"
   ]
  },
  {
   "cell_type": "code",
   "execution_count": null,
   "metadata": {},
   "outputs": [],
   "source": []
  }
 ],
 "metadata": {
  "kernelspec": {
   "display_name": "Python 3",
   "language": "python",
   "name": "python3"
  },
  "language_info": {
   "codemirror_mode": {
    "name": "ipython",
    "version": 3
   },
   "file_extension": ".py",
   "mimetype": "text/x-python",
   "name": "python",
   "nbconvert_exporter": "python",
   "pygments_lexer": "ipython3",
   "version": "3.7.4"
  }
 },
 "nbformat": 4,
 "nbformat_minor": 4
}
